{
 "cells": [
  {
   "cell_type": "code",
   "execution_count": 7,
   "metadata": {
    "colab": {},
    "colab_type": "code",
    "executionInfo": {
     "elapsed": 4559,
     "status": "ok",
     "timestamp": 1600696567939,
     "user": {
      "displayName": "Nitish Singh",
      "photoUrl": "https://lh3.googleusercontent.com/a-/AOh14GgsD-bEFSSQAb_5OYIU_Ra66nCg6YgWsCFgxpZLlw=s64",
      "userId": "06740764288798839139"
     },
     "user_tz": -330
    },
    "id": "3tFGgFKexKF1"
   },
   "outputs": [],
   "source": [
    "import tensorflow as tf\n",
    "import numpy as np\n",
    "import matplotlib.pyplot as plt\n",
    "from tensorflow.keras.models import Sequential\n",
    "from tensorflow.keras.layers import Dense\n",
    "from tensorflow.keras.layers import Dropout\n",
    "from tensorflow.keras.optimizers import Adam\n",
    "from sklearn.model_selection import train_test_split\n",
    "from sklearn.metrics import mean_squared_error"
   ]
  },
  {
   "cell_type": "markdown",
   "metadata": {
    "colab_type": "text",
    "id": "hAEFOSC8fbQE"
   },
   "source": [
    "# Generate Data"
   ]
  },
  {
   "cell_type": "code",
   "execution_count": 9,
   "metadata": {
    "colab": {},
    "colab_type": "code",
    "executionInfo": {
     "elapsed": 2295,
     "status": "ok",
     "timestamp": 1600696574411,
     "user": {
      "displayName": "Nitish Singh",
      "photoUrl": "https://lh3.googleusercontent.com/a-/AOh14GgsD-bEFSSQAb_5OYIU_Ra66nCg6YgWsCFgxpZLlw=s64",
      "userId": "06740764288798839139"
     },
     "user_tz": -330
    },
    "id": "gWBfjx68OdDL"
   },
   "outputs": [
    {
     "data": {
      "text/plain": [
       "array([-1.        , -0.89473684, -0.78947368, -0.68421053, -0.57894737,\n",
       "       -0.47368421, -0.36842105, -0.26315789, -0.15789474, -0.05263158,\n",
       "        0.05263158,  0.15789474,  0.26315789,  0.36842105,  0.47368421,\n",
       "        0.57894737,  0.68421053,  0.78947368,  0.89473684,  1.        ])"
      ]
     },
     "execution_count": 9,
     "metadata": {},
     "output_type": "execute_result"
    }
   ],
   "source": [
    "X_train = np.linspace(-1, 1, 20)\n",
    "X_train"
   ]
  },
  {
   "cell_type": "code",
   "execution_count": 10,
   "metadata": {
    "colab": {},
    "colab_type": "code",
    "executionInfo": {
     "elapsed": 2613,
     "status": "ok",
     "timestamp": 1600696577884,
     "user": {
      "displayName": "Nitish Singh",
      "photoUrl": "https://lh3.googleusercontent.com/a-/AOh14GgsD-bEFSSQAb_5OYIU_Ra66nCg6YgWsCFgxpZLlw=s64",
      "userId": "06740764288798839139"
     },
     "user_tz": -330
    },
    "id": "HHgAbMkwdqcJ"
   },
   "outputs": [],
   "source": [
    "y_train = np.array([-0.6561 , -0.3099 , -0.59035, -0.50855, -0.285  , \n",
    "                    -0.2443 , -0.02445,  0.00135, -0.2006 ,  0.07475, \n",
    "                    -0.1422 ,  0.06515,  0.15265,  0.3521 ,  0.28415,  \n",
    "                    0.5524 ,  0.23115,  0.20835, 0.4211,  0.60485])"
   ]
  },
  {
   "cell_type": "code",
   "execution_count": 11,
   "metadata": {
    "colab": {},
    "colab_type": "code",
    "executionInfo": {
     "elapsed": 1828,
     "status": "ok",
     "timestamp": 1600696580216,
     "user": {
      "displayName": "Nitish Singh",
      "photoUrl": "https://lh3.googleusercontent.com/a-/AOh14GgsD-bEFSSQAb_5OYIU_Ra66nCg6YgWsCFgxpZLlw=s64",
      "userId": "06740764288798839139"
     },
     "user_tz": -330
    },
    "id": "-3T0MiSMRU88"
   },
   "outputs": [],
   "source": [
    "X_test = np.linspace(-1, 1, 20)"
   ]
  },
  {
   "cell_type": "code",
   "execution_count": 12,
   "metadata": {
    "colab": {},
    "colab_type": "code",
    "executionInfo": {
     "elapsed": 1449,
     "status": "ok",
     "timestamp": 1600696582870,
     "user": {
      "displayName": "Nitish Singh",
      "photoUrl": "https://lh3.googleusercontent.com/a-/AOh14GgsD-bEFSSQAb_5OYIU_Ra66nCg6YgWsCFgxpZLlw=s64",
      "userId": "06740764288798839139"
     },
     "user_tz": -330
    },
    "id": "T13ENwBmRVAC"
   },
   "outputs": [],
   "source": [
    "y_test = np.array([-0.69415, -0.451  , -0.43005, -0.4484 , -0.1475 ,\n",
    "                   -0.5019 , -0.28055,  0.24595, -0.21425, -0.0286 ,  \n",
    "                   0.23415,  0.46575, 0.07955,  0.1973 ,  0.0719 ,\n",
    "                   0.3639 ,  0.5536 ,  0.3365 , 0.50705,  0.33435])"
   ]
  },
  {
   "cell_type": "code",
   "execution_count": 13,
   "metadata": {
    "colab": {
     "base_uri": "https://localhost:8080/",
     "height": 265
    },
    "colab_type": "code",
    "executionInfo": {
     "elapsed": 1343,
     "status": "ok",
     "timestamp": 1600696587081,
     "user": {
      "displayName": "Nitish Singh",
      "photoUrl": "https://lh3.googleusercontent.com/a-/AOh14GgsD-bEFSSQAb_5OYIU_Ra66nCg6YgWsCFgxpZLlw=s64",
      "userId": "06740764288798839139"
     },
     "user_tz": -330
    },
    "id": "XeLcH4EeRVFk",
    "outputId": "dedd82e5-8f15-422f-e2fe-f7324574e6b1"
   },
   "outputs": [
    {
     "data": {
      "image/png": "[encoded data removed]",
      "text/plain": [
       "<Figure size 640x480 with 1 Axes>"
      ]
     },
     "metadata": {},
     "output_type": "display_data"
    }
   ],
   "source": [
    "plt.scatter(X_train, y_train, c='red', label='Train')\n",
    "plt.scatter(X_test, y_test, c='blue', label='Test')\n",
    "plt.legend()\n",
    "plt.show()"
   ]
  },
  {
   "cell_type": "markdown",
   "metadata": {
    "colab_type": "text",
    "id": "shGA9BPVfJur"
   },
   "source": [
    "# Regression Model"
   ]
  },
  {
   "cell_type": "code",
   "execution_count": 14,
   "metadata": {
    "colab": {},
    "colab_type": "code",
    "executionInfo": {
     "elapsed": 18994,
     "status": "ok",
     "timestamp": 1600696614851,
     "user": {
      "displayName": "Nitish Singh",
      "photoUrl": "https://lh3.googleusercontent.com/a-/AOh14GgsD-bEFSSQAb_5OYIU_Ra66nCg6YgWsCFgxpZLlw=s64",
      "userId": "06740764288798839139"
     },
     "user_tz": -330
    },
    "id": "VFNJfoqXSZ3A"
   },
   "outputs": [
    {
     "name": "stderr",
     "output_type": "stream",
     "text": [
      "C:\\Users\\Ashish Kumar Singh\\AppData\\Roaming\\Python\\Python312\\site-packages\\keras\\src\\layers\\core\\dense.py:87: UserWarning: Do not pass an `input_shape`/`input_dim` argument to a layer. When using Sequential models, prefer using an `Input(shape)` object as the first layer in the model instead.\n",
      "  super().__init__(activity_regularizer=activity_regularizer, **kwargs)\n"
     ]
    }
   ],
   "source": [
    "model_1 = Sequential()\n",
    "model_1.add(Dense(128, input_dim=1, activation=\"relu\"))\n",
    "model_1.add(Dense(128, activation=\"relu\"))\n",
    "model_1.add(Dense(1, activation=\"linear\"))\n",
    "adam = Adam(learning_rate=0.01)\n",
    "model_1.compile(loss='mse', optimizer=adam, metrics=['mse'])\n",
    "history = model_1.fit(X_train, y_train, epochs=500, \n",
    "                    validation_data = (X_test, y_test),\n",
    "                    verbose=False)"
   ]
  },
  {
   "cell_type": "code",
   "execution_count": 15,
   "metadata": {
    "colab": {
     "base_uri": "https://localhost:8080/",
     "height": 34
    },
    "colab_type": "code",
    "executionInfo": {
     "elapsed": 1453,
     "status": "ok",
     "timestamp": 1600696624268,
     "user": {
      "displayName": "Nitish Singh",
      "photoUrl": "https://lh3.googleusercontent.com/a-/AOh14GgsD-bEFSSQAb_5OYIU_Ra66nCg6YgWsCFgxpZLlw=s64",
      "userId": "06740764288798839139"
     },
     "user_tz": -330
    },
    "id": "l5b0Udf8VcB6",
    "outputId": "9efb79e7-6e47-4f6c-aa0f-ecb43eac71a8"
   },
   "outputs": [
    {
     "name": "stdout",
     "output_type": "stream",
     "text": [
      "Train: 0.002916432684287429, Test: 0.04482857510447502\n"
     ]
    }
   ],
   "source": [
    "# evaluate the model\n",
    "_, train_mse = model_1.evaluate(X_train, y_train, verbose=0)\n",
    "_, test_mse = model_1.evaluate(X_test, y_test, verbose=0)\n",
    "print('Train: {}, Test: {}'.format(train_mse, test_mse))"
   ]
  },
  {
   "cell_type": "code",
   "execution_count": 16,
   "metadata": {
    "colab": {},
    "colab_type": "code",
    "executionInfo": {
     "elapsed": 2296,
     "status": "ok",
     "timestamp": 1600696643068,
     "user": {
      "displayName": "Nitish Singh",
      "photoUrl": "https://lh3.googleusercontent.com/a-/AOh14GgsD-bEFSSQAb_5OYIU_Ra66nCg6YgWsCFgxpZLlw=s64",
      "userId": "06740764288798839139"
     },
     "user_tz": -330
    },
    "id": "0ucuCQDuWA8S"
   },
   "outputs": [
    {
     "name": "stdout",
     "output_type": "stream",
     "text": [
      "\u001b[1m1/1\u001b[0m \u001b[32m━━━━━━━━━━━━━━━━━━━━\u001b[0m\u001b[37m\u001b[0m \u001b[1m0s\u001b[0m 91ms/step\n"
     ]
    }
   ],
   "source": [
    "y_pred_1 = model_1.predict(X_test)"
   ]
  },
  {
   "cell_type": "code",
   "execution_count": 11,
   "metadata": {
    "colab": {
     "base_uri": "https://localhost:8080/",
     "height": 269
    },
    "colab_type": "code",
    "executionInfo": {
     "elapsed": 1452,
     "status": "ok",
     "timestamp": 1600696651365,
     "user": {
      "displayName": "Nitish Singh",
      "photoUrl": "https://lh3.googleusercontent.com/a-/AOh14GgsD-bEFSSQAb_5OYIU_Ra66nCg6YgWsCFgxpZLlw=s64",
      "userId": "06740764288798839139"
     },
     "user_tz": -330
    },
    "id": "zwWmKGgeWTrf",
    "outputId": "199276a6-326f-4cc7-b156-4382f8f5918c"
   },
   "outputs": [
    {
     "data": {
      "image/png": "[encoded data removed]",
      "text/plain": [
       "<Figure size 432x288 with 1 Axes>"
      ]
     },
     "metadata": {
      "needs_background": "light",
      "tags": []
     },
     "output_type": "display_data"
    }
   ],
   "source": [
    "plt.figure()\n",
    "plt.scatter(X_train, y_train, c='red', label='Train')\n",
    "plt.scatter(X_test, y_test, c='blue', label='Test')\n",
    "plt.plot(X_test, y_pred_1)\n",
    "plt.legend()\n",
    "plt.ylim((-1.5, 1.5))\n",
    "plt.show()"
   ]
  },
  {
   "cell_type": "markdown",
   "metadata": {
    "colab_type": "text",
    "id": "jrbM_1AZezz_"
   },
   "source": [
    "# Dropout Model"
   ]
  },
  {
   "cell_type": "code",
   "execution_count": 18,
   "metadata": {
    "colab": {},
    "colab_type": "code",
    "executionInfo": {
     "elapsed": 13060,
     "status": "ok",
     "timestamp": 1600696819306,
     "user": {
      "displayName": "Nitish Singh",
      "photoUrl": "https://lh3.googleusercontent.com/a-/AOh14GgsD-bEFSSQAb_5OYIU_Ra66nCg6YgWsCFgxpZLlw=s64",
      "userId": "06740764288798839139"
     },
     "user_tz": -330
    },
    "id": "_vOPbuYHSlZm"
   },
   "outputs": [],
   "source": [
    "model_2 = Sequential()\n",
    "model_2.add(Dense(128, input_dim=1, activation=\"relu\"))\n",
    "model_2.add(Dropout(0.2))\n",
    "model_2.add(Dense(128, activation=\"relu\"))\n",
    "model_2.add(Dropout(0.2))\n",
    "model_2.add(Dense(1, activation=\"linear\"))\n",
    "adam = Adam(learning_rate=0.01)\n",
    "model_2.compile(loss='mse', optimizer=adam, metrics=['mse'])\n",
    "\n",
    "drop_out_history = model_2.fit(X_train, y_train, epochs=500, \n",
    "                               validation_data = (X_test, y_test),\n",
    "                               verbose=False)"
   ]
  },
  {
   "cell_type": "code",
   "execution_count": 19,
   "metadata": {
    "colab": {
     "base_uri": "https://localhost:8080/",
     "height": 34
    },
    "colab_type": "code",
    "executionInfo": {
     "elapsed": 1307,
     "status": "ok",
     "timestamp": 1600696824945,
     "user": {
      "displayName": "Nitish Singh",
      "photoUrl": "https://lh3.googleusercontent.com/a-/AOh14GgsD-bEFSSQAb_5OYIU_Ra66nCg6YgWsCFgxpZLlw=s64",
      "userId": "06740764288798839139"
     },
     "user_tz": -330
    },
    "id": "s0rofVLkSZ62",
    "outputId": "3850231d-35a3-4a36-e0b4-a910907b7fbb"
   },
   "outputs": [
    {
     "name": "stdout",
     "output_type": "stream",
     "text": [
      "Train: 0.01308248657733202, Test: 0.039593055844306946\n"
     ]
    }
   ],
   "source": [
    "# evaluate the model\n",
    "_, train_mse = model_2.evaluate(X_train, y_train, verbose=0)\n",
    "_, test_mse = model_2.evaluate(X_test, y_test, verbose=0)\n",
    "print('Train: {}, Test: {}'.format(train_mse, test_mse))"
   ]
  },
  {
   "cell_type": "code",
   "execution_count": 20,
   "metadata": {
    "colab": {},
    "colab_type": "code",
    "executionInfo": {
     "elapsed": 1328,
     "status": "ok",
     "timestamp": 1600696834930,
     "user": {
      "displayName": "Nitish Singh",
      "photoUrl": "https://lh3.googleusercontent.com/a-/AOh14GgsD-bEFSSQAb_5OYIU_Ra66nCg6YgWsCFgxpZLlw=s64",
      "userId": "06740764288798839139"
     },
     "user_tz": -330
    },
    "id": "EtA4Oj8zV1HU"
   },
   "outputs": [
    {
     "name": "stdout",
     "output_type": "stream",
     "text": [
      "\u001b[1m1/1\u001b[0m \u001b[32m━━━━━━━━━━━━━━━━━━━━\u001b[0m\u001b[37m\u001b[0m \u001b[1m0s\u001b[0m 64ms/step\n"
     ]
    }
   ],
   "source": [
    "y_pred_2 = model_2.predict(X_test)"
   ]
  },
  {
   "cell_type": "code",
   "execution_count": 21,
   "metadata": {
    "colab": {
     "base_uri": "https://localhost:8080/",
     "height": 269
    },
    "colab_type": "code",
    "executionInfo": {
     "elapsed": 1295,
     "status": "ok",
     "timestamp": 1600696840494,
     "user": {
      "displayName": "Nitish Singh",
      "photoUrl": "https://lh3.googleusercontent.com/a-/AOh14GgsD-bEFSSQAb_5OYIU_Ra66nCg6YgWsCFgxpZLlw=s64",
      "userId": "06740764288798839139"
     },
     "user_tz": -330
    },
    "id": "Lkk2Nf3eV1Kx",
    "outputId": "dbc28816-2af8-436e-a005-bcc8decf9afe"
   },
   "outputs": [
    {
     "data": {
      "image/png": "[encoded data removed]",
      "text/plain": [
       "<Figure size 640x480 with 1 Axes>"
      ]
     },
     "metadata": {},
     "output_type": "display_data"
    }
   ],
   "source": [
    "plt.figure()\n",
    "plt.scatter(X_train, y_train, c='red', label='Train')\n",
    "plt.scatter(X_test, y_test, c='blue', label='Test')\n",
    "plt.plot(X_test, y_pred_2)\n",
    "plt.legend()\n",
    "plt.ylim((-1.5, 1.5))\n",
    "plt.show()"
   ]
  },
  {
   "cell_type": "code",
   "execution_count": null,
   "metadata": {
    "colab": {},
    "colab_type": "code",
    "id": "5dxX6HI77tdw"
   },
   "outputs": [],
   "source": []
  }
 ],
 "metadata": {
  "accelerator": "GPU",
  "colab": {
   "collapsed_sections": [],
   "name": "dropout-notebook.ipynb",
   "provenance": []
  },
  "kernelspec": {
   "display_name": "Python 3 (ipykernel)",
   "language": "python",
   "name": "python3"
  },
  "language_info": {
   "codemirror_mode": {
    "name": "ipython",
    "version": 3
   },
   "file_extension": ".py",
   "mimetype": "text/x-python",
   "name": "python",
   "nbconvert_exporter": "python",
   "pygments_lexer": "ipython3",
   "version": "3.12.3"
  }
 },
 "nbformat": 4,
 "nbformat_minor": 4
}
