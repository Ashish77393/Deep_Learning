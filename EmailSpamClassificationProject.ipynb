{
 "cells": [
  {
   "cell_type": "code",
   "execution_count": 1,
   "id": "b545ad2f-a01a-4cd3-9512-18929aa48dec",
   "metadata": {},
   "outputs": [],
   "source": [
    "import pandas as pd \n",
    "import numpy as np \n"
   ]
  },
  {
   "cell_type": "code",
   "execution_count": 2,
   "id": "d1779487-a0a1-48c2-9e1a-59a57abd21f5",
   "metadata": {},
   "outputs": [],
   "source": [
    "df =pd.read_csv('combined_data.csv')"
   ]
  },
  {
   "cell_type": "code",
   "execution_count": 6,
   "id": "a0cabda1-45ba-45ac-9264-c46babbde61c",
   "metadata": {},
   "outputs": [
    {
     "data": {
      "text/plain": [
       "0        ounce feather bowl hummingbird opec moment ala...\n",
       "1        wulvob get your medircations online qnb ikud v...\n",
       "2         computer connection from cnn com wednesday es...\n",
       "3        university degree obtain a prosperous future m...\n",
       "4        thanks for all your answers guys i know i shou...\n",
       "                               ...                        \n",
       "83443    hi given a date how do i get the last date of ...\n",
       "83444    now you can order software on cd or download i...\n",
       "83445    dear valued member canadianpharmacy provides a...\n",
       "83446    subscribe change profile contact us long term ...\n",
       "83447    get the most out of life ! viagra has helped m...\n",
       "Name: text, Length: 83448, dtype: object"
      ]
     },
     "execution_count": 6,
     "metadata": {},
     "output_type": "execute_result"
    }
   ],
   "source": [
    "df['text']"
   ]
  },
  {
   "cell_type": "code",
   "execution_count": 7,
   "id": "a89ad3b5-0f25-47fd-bde8-93e7915c9038",
   "metadata": {},
   "outputs": [
    {
     "data": {
      "text/html": [
       "<div>\n",
       "<style scoped>\n",
       "    .dataframe tbody tr th:only-of-type {\n",
       "        vertical-align: middle;\n",
       "    }\n",
       "\n",
       "    .dataframe tbody tr th {\n",
       "        vertical-align: top;\n",
       "    }\n",
       "\n",
       "    .dataframe thead th {\n",
       "        text-align: right;\n",
       "    }\n",
       "</style>\n",
       "<table border=\"1\" class=\"dataframe\">\n",
       "  <thead>\n",
       "    <tr style=\"text-align: right;\">\n",
       "      <th></th>\n",
       "      <th>label</th>\n",
       "      <th>text</th>\n",
       "    </tr>\n",
       "  </thead>\n",
       "  <tbody>\n",
       "    <tr>\n",
       "      <th>0</th>\n",
       "      <td>1</td>\n",
       "      <td>ounce feather bowl hummingbird opec moment ala...</td>\n",
       "    </tr>\n",
       "    <tr>\n",
       "      <th>1</th>\n",
       "      <td>1</td>\n",
       "      <td>wulvob get your medircations online qnb ikud v...</td>\n",
       "    </tr>\n",
       "    <tr>\n",
       "      <th>2</th>\n",
       "      <td>0</td>\n",
       "      <td>computer connection from cnn com wednesday es...</td>\n",
       "    </tr>\n",
       "    <tr>\n",
       "      <th>3</th>\n",
       "      <td>1</td>\n",
       "      <td>university degree obtain a prosperous future m...</td>\n",
       "    </tr>\n",
       "    <tr>\n",
       "      <th>4</th>\n",
       "      <td>0</td>\n",
       "      <td>thanks for all your answers guys i know i shou...</td>\n",
       "    </tr>\n",
       "    <tr>\n",
       "      <th>...</th>\n",
       "      <td>...</td>\n",
       "      <td>...</td>\n",
       "    </tr>\n",
       "    <tr>\n",
       "      <th>83443</th>\n",
       "      <td>0</td>\n",
       "      <td>hi given a date how do i get the last date of ...</td>\n",
       "    </tr>\n",
       "    <tr>\n",
       "      <th>83444</th>\n",
       "      <td>1</td>\n",
       "      <td>now you can order software on cd or download i...</td>\n",
       "    </tr>\n",
       "    <tr>\n",
       "      <th>83445</th>\n",
       "      <td>1</td>\n",
       "      <td>dear valued member canadianpharmacy provides a...</td>\n",
       "    </tr>\n",
       "    <tr>\n",
       "      <th>83446</th>\n",
       "      <td>0</td>\n",
       "      <td>subscribe change profile contact us long term ...</td>\n",
       "    </tr>\n",
       "    <tr>\n",
       "      <th>83447</th>\n",
       "      <td>1</td>\n",
       "      <td>get the most out of life ! viagra has helped m...</td>\n",
       "    </tr>\n",
       "  </tbody>\n",
       "</table>\n",
       "<p>83448 rows × 2 columns</p>\n",
       "</div>"
      ],
      "text/plain": [
       "       label                                               text\n",
       "0          1  ounce feather bowl hummingbird opec moment ala...\n",
       "1          1  wulvob get your medircations online qnb ikud v...\n",
       "2          0   computer connection from cnn com wednesday es...\n",
       "3          1  university degree obtain a prosperous future m...\n",
       "4          0  thanks for all your answers guys i know i shou...\n",
       "...      ...                                                ...\n",
       "83443      0  hi given a date how do i get the last date of ...\n",
       "83444      1  now you can order software on cd or download i...\n",
       "83445      1  dear valued member canadianpharmacy provides a...\n",
       "83446      0  subscribe change profile contact us long term ...\n",
       "83447      1  get the most out of life ! viagra has helped m...\n",
       "\n",
       "[83448 rows x 2 columns]"
      ]
     },
     "execution_count": 7,
     "metadata": {},
     "output_type": "execute_result"
    }
   ],
   "source": [
    "df"
   ]
  },
  {
   "cell_type": "code",
   "execution_count": 8,
   "id": "3aaef771-6246-4eee-be0b-7b0dd3a14235",
   "metadata": {},
   "outputs": [],
   "source": [
    "from sklearn.model_selection import train_test_split\n",
    "x_train,x_test,y_train,y_test=train_test_split(df[\"text\"],df['label'],random_state=42,test_size=0.2)"
   ]
  },
  {
   "cell_type": "code",
   "execution_count": 9,
   "id": "fdb9b14b-2496-4483-a8d2-a80f895ce82a",
   "metadata": {},
   "outputs": [
    {
     "data": {
      "text/plain": [
       "9381     hi ,\\ni sent you an email last week and need t...\n",
       "11566    i'm taking requests http use perl org petdance...\n",
       "40822    on escapenumber escapenumber escapenumber tony...\n",
       "35045    sunday escapenumber a pril escapenumber escape...\n",
       "38667    sally ,\\nattached is the detail of the analyst...\n",
       "                               ...                        \n",
       "6265     anita . from our conversation today with daren...\n",
       "54886    business highlights\\nenron freight markets\\nen...\n",
       "76820    i am rebuilding r in a mandriva linux environm...\n",
       "860      alternative medicine database over escapenumbe...\n",
       "15795     escapenumberfxml version escapenumberd escape...\n",
       "Name: text, Length: 66758, dtype: object"
      ]
     },
     "execution_count": 9,
     "metadata": {},
     "output_type": "execute_result"
    }
   ],
   "source": [
    "x_train"
   ]
  },
  {
   "cell_type": "code",
   "execution_count": null,
   "id": "acf45880-9b5b-47d1-bde3-7a84e26e226e",
   "metadata": {},
   "outputs": [],
   "source": []
  }
 ],
 "metadata": {
  "kernelspec": {
   "display_name": "Python 3 (ipykernel)",
   "language": "python",
   "name": "python3"
  },
  "language_info": {
   "codemirror_mode": {
    "name": "ipython",
    "version": 3
   },
   "file_extension": ".py",
   "mimetype": "text/x-python",
   "name": "python",
   "nbconvert_exporter": "python",
   "pygments_lexer": "ipython3",
   "version": "3.12.3"
  }
 },
 "nbformat": 4,
 "nbformat_minor": 5
}
