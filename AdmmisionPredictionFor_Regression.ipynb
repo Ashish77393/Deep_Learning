{
 "cells": [
  {
   "cell_type": "code",
   "execution_count": 30,
   "id": "2d9f222d-04ee-48de-9f49-1b5d992534fa",
   "metadata": {},
   "outputs": [],
   "source": [
    "import pandas as pd \n",
    "import numpy as np "
   ]
  },
  {
   "cell_type": "code",
   "execution_count": 31,
   "id": "2ceac15c-8a27-4a57-8d00-2dd7f1732f7f",
   "metadata": {},
   "outputs": [
    {
     "data": {
      "text/html": [
       "<div>\n",
       "<style scoped>\n",
       "    .dataframe tbody tr th:only-of-type {\n",
       "        vertical-align: middle;\n",
       "    }\n",
       "\n",
       "    .dataframe tbody tr th {\n",
       "        vertical-align: top;\n",
       "    }\n",
       "\n",
       "    .dataframe thead th {\n",
       "        text-align: right;\n",
       "    }\n",
       "</style>\n",
       "<table border=\"1\" class=\"dataframe\">\n",
       "  <thead>\n",
       "    <tr style=\"text-align: right;\">\n",
       "      <th></th>\n",
       "      <th>Serial No.</th>\n",
       "      <th>GRE Score</th>\n",
       "      <th>TOEFL Score</th>\n",
       "      <th>University Rating</th>\n",
       "      <th>SOP</th>\n",
       "      <th>LOR</th>\n",
       "      <th>CGPA</th>\n",
       "      <th>Research</th>\n",
       "      <th>Chance of Admit</th>\n",
       "    </tr>\n",
       "  </thead>\n",
       "  <tbody>\n",
       "    <tr>\n",
       "      <th>0</th>\n",
       "      <td>1</td>\n",
       "      <td>337</td>\n",
       "      <td>118</td>\n",
       "      <td>4</td>\n",
       "      <td>4.5</td>\n",
       "      <td>4.5</td>\n",
       "      <td>9.65</td>\n",
       "      <td>1</td>\n",
       "      <td>0.92</td>\n",
       "    </tr>\n",
       "    <tr>\n",
       "      <th>1</th>\n",
       "      <td>2</td>\n",
       "      <td>324</td>\n",
       "      <td>107</td>\n",
       "      <td>4</td>\n",
       "      <td>4.0</td>\n",
       "      <td>4.5</td>\n",
       "      <td>8.87</td>\n",
       "      <td>1</td>\n",
       "      <td>0.76</td>\n",
       "    </tr>\n",
       "    <tr>\n",
       "      <th>2</th>\n",
       "      <td>3</td>\n",
       "      <td>316</td>\n",
       "      <td>104</td>\n",
       "      <td>3</td>\n",
       "      <td>3.0</td>\n",
       "      <td>3.5</td>\n",
       "      <td>8.00</td>\n",
       "      <td>1</td>\n",
       "      <td>0.72</td>\n",
       "    </tr>\n",
       "    <tr>\n",
       "      <th>3</th>\n",
       "      <td>4</td>\n",
       "      <td>322</td>\n",
       "      <td>110</td>\n",
       "      <td>3</td>\n",
       "      <td>3.5</td>\n",
       "      <td>2.5</td>\n",
       "      <td>8.67</td>\n",
       "      <td>1</td>\n",
       "      <td>0.80</td>\n",
       "    </tr>\n",
       "    <tr>\n",
       "      <th>4</th>\n",
       "      <td>5</td>\n",
       "      <td>314</td>\n",
       "      <td>103</td>\n",
       "      <td>2</td>\n",
       "      <td>2.0</td>\n",
       "      <td>3.0</td>\n",
       "      <td>8.21</td>\n",
       "      <td>0</td>\n",
       "      <td>0.65</td>\n",
       "    </tr>\n",
       "    <tr>\n",
       "      <th>...</th>\n",
       "      <td>...</td>\n",
       "      <td>...</td>\n",
       "      <td>...</td>\n",
       "      <td>...</td>\n",
       "      <td>...</td>\n",
       "      <td>...</td>\n",
       "      <td>...</td>\n",
       "      <td>...</td>\n",
       "      <td>...</td>\n",
       "    </tr>\n",
       "    <tr>\n",
       "      <th>395</th>\n",
       "      <td>396</td>\n",
       "      <td>324</td>\n",
       "      <td>110</td>\n",
       "      <td>3</td>\n",
       "      <td>3.5</td>\n",
       "      <td>3.5</td>\n",
       "      <td>9.04</td>\n",
       "      <td>1</td>\n",
       "      <td>0.82</td>\n",
       "    </tr>\n",
       "    <tr>\n",
       "      <th>396</th>\n",
       "      <td>397</td>\n",
       "      <td>325</td>\n",
       "      <td>107</td>\n",
       "      <td>3</td>\n",
       "      <td>3.0</td>\n",
       "      <td>3.5</td>\n",
       "      <td>9.11</td>\n",
       "      <td>1</td>\n",
       "      <td>0.84</td>\n",
       "    </tr>\n",
       "    <tr>\n",
       "      <th>397</th>\n",
       "      <td>398</td>\n",
       "      <td>330</td>\n",
       "      <td>116</td>\n",
       "      <td>4</td>\n",
       "      <td>5.0</td>\n",
       "      <td>4.5</td>\n",
       "      <td>9.45</td>\n",
       "      <td>1</td>\n",
       "      <td>0.91</td>\n",
       "    </tr>\n",
       "    <tr>\n",
       "      <th>398</th>\n",
       "      <td>399</td>\n",
       "      <td>312</td>\n",
       "      <td>103</td>\n",
       "      <td>3</td>\n",
       "      <td>3.5</td>\n",
       "      <td>4.0</td>\n",
       "      <td>8.78</td>\n",
       "      <td>0</td>\n",
       "      <td>0.67</td>\n",
       "    </tr>\n",
       "    <tr>\n",
       "      <th>399</th>\n",
       "      <td>400</td>\n",
       "      <td>333</td>\n",
       "      <td>117</td>\n",
       "      <td>4</td>\n",
       "      <td>5.0</td>\n",
       "      <td>4.0</td>\n",
       "      <td>9.66</td>\n",
       "      <td>1</td>\n",
       "      <td>0.95</td>\n",
       "    </tr>\n",
       "  </tbody>\n",
       "</table>\n",
       "<p>400 rows × 9 columns</p>\n",
       "</div>"
      ],
      "text/plain": [
       "     Serial No.  GRE Score  TOEFL Score  University Rating  SOP  LOR   CGPA  \\\n",
       "0             1        337          118                  4  4.5   4.5  9.65   \n",
       "1             2        324          107                  4  4.0   4.5  8.87   \n",
       "2             3        316          104                  3  3.0   3.5  8.00   \n",
       "3             4        322          110                  3  3.5   2.5  8.67   \n",
       "4             5        314          103                  2  2.0   3.0  8.21   \n",
       "..          ...        ...          ...                ...  ...   ...   ...   \n",
       "395         396        324          110                  3  3.5   3.5  9.04   \n",
       "396         397        325          107                  3  3.0   3.5  9.11   \n",
       "397         398        330          116                  4  5.0   4.5  9.45   \n",
       "398         399        312          103                  3  3.5   4.0  8.78   \n",
       "399         400        333          117                  4  5.0   4.0  9.66   \n",
       "\n",
       "     Research  Chance of Admit   \n",
       "0           1              0.92  \n",
       "1           1              0.76  \n",
       "2           1              0.72  \n",
       "3           1              0.80  \n",
       "4           0              0.65  \n",
       "..        ...               ...  \n",
       "395         1              0.82  \n",
       "396         1              0.84  \n",
       "397         1              0.91  \n",
       "398         0              0.67  \n",
       "399         1              0.95  \n",
       "\n",
       "[400 rows x 9 columns]"
      ]
     },
     "execution_count": 31,
     "metadata": {},
     "output_type": "execute_result"
    }
   ],
   "source": [
    "df=pd.read_csv('Admission_Predict.csv')\n",
    "df"
   ]
  },
  {
   "cell_type": "code",
   "execution_count": 32,
   "id": "232766b2-6cd2-4132-855d-a902db871eff",
   "metadata": {},
   "outputs": [
    {
     "data": {
      "text/plain": [
       "Serial No.           0\n",
       "GRE Score            0\n",
       "TOEFL Score          0\n",
       "University Rating    0\n",
       "SOP                  0\n",
       "LOR                  0\n",
       "CGPA                 0\n",
       "Research             0\n",
       "Chance of Admit      0\n",
       "dtype: int64"
      ]
     },
     "execution_count": 32,
     "metadata": {},
     "output_type": "execute_result"
    }
   ],
   "source": [
    "df.isnull().sum()"
   ]
  },
  {
   "cell_type": "code",
   "execution_count": 76,
   "id": "0499a3ec-cb2c-4c1b-b22d-b4bb8b710ce1",
   "metadata": {},
   "outputs": [
    {
     "data": {
      "text/plain": [
       "GRE Score            0\n",
       "TOEFL Score          0\n",
       "University Rating    0\n",
       "SOP                  0\n",
       "LOR                  0\n",
       "CGPA                 0\n",
       "Research             0\n",
       "Chance of Admit      0\n",
       "dtype: int64"
      ]
     },
     "execution_count": 76,
     "metadata": {},
     "output_type": "execute_result"
    }
   ],
   "source": [
    "df.isnull().sum()"
   ]
  },
  {
   "cell_type": "code",
   "execution_count": 34,
   "id": "67025634-1bf3-473a-a6f9-bb7fb9947f46",
   "metadata": {},
   "outputs": [],
   "source": [
    "df.drop(columns=['Serial No.'],inplace=True)"
   ]
  },
  {
   "cell_type": "code",
   "execution_count": 43,
   "id": "9df2bf94-09ae-492d-a900-ab86431604df",
   "metadata": {},
   "outputs": [],
   "source": [
    "x=df.iloc[:,:-1]\n",
    "y=df.iloc[:,-1]\n"
   ]
  },
  {
   "cell_type": "code",
   "execution_count": 46,
   "id": "7b368210-50b6-4df1-823c-d4621e922bf6",
   "metadata": {},
   "outputs": [],
   "source": [
    "from sklearn.model_selection import train_test_split\n",
    "x_train,x_test,y_train,y_test=train_test_split(x,y,random_state=42,test_size=0.2)"
   ]
  },
  {
   "cell_type": "code",
   "execution_count": 67,
   "id": "8f725152-a3ba-41fc-a68b-9752eb72bdda",
   "metadata": {},
   "outputs": [
    {
     "data": {
      "text/plain": [
       "(320,)"
      ]
     },
     "execution_count": 67,
     "metadata": {},
     "output_type": "execute_result"
    }
   ],
   "source": [
    "y_train.shape"
   ]
  },
  {
   "cell_type": "code",
   "execution_count": 68,
   "id": "b45788ea-61da-4163-bf03-fbc0b2c091d8",
   "metadata": {},
   "outputs": [],
   "source": [
    "from sklearn.preprocessing import MinMaxScaler\n",
    "mms=MinMaxScaler()\n",
    "x_train_scaled=mms.fit_transform(x_train)\n",
    "x_test_scaled=mms.transform(x_test)"
   ]
  },
  {
   "cell_type": "code",
   "execution_count": 69,
   "id": "05550e43-8a33-450a-aa37-39f865ef708d",
   "metadata": {},
   "outputs": [
    {
     "data": {
      "text/plain": [
       "array([[0.22      , 0.42857143, 0.5       , 0.625     , 0.75      ,\n",
       "        0.42307692, 1.        ],\n",
       "       [0.42      , 0.35714286, 0.5       , 0.875     , 0.75      ,\n",
       "        0.58974359, 1.        ],\n",
       "       [1.        , 0.78571429, 1.        , 0.75      , 0.75      ,\n",
       "        0.8974359 , 1.        ],\n",
       "       [0.7       , 0.57142857, 0.75      , 0.875     , 0.75      ,\n",
       "        0.72435897, 1.        ],\n",
       "       [0.22      , 0.17857143, 0.25      , 0.5       , 0.5       ,\n",
       "        0.34615385, 1.        ],\n",
       "       [1.        , 0.82142857, 1.        , 0.875     , 0.875     ,\n",
       "        0.84935897, 1.        ],\n",
       "       [0.14      , 0.14285714, 0.25      , 0.375     , 0.125     ,\n",
       "        0.34935897, 0.        ],\n",
       "       [0.26      , 0.25      , 0.5       , 0.25      , 0.375     ,\n",
       "        0.27564103, 0.        ],\n",
       "       [0.44      , 0.46428571, 0.25      , 0.25      , 0.375     ,\n",
       "        0.52884615, 0.        ],\n",
       "       [0.66      , 0.75      , 0.5       , 0.75      , 0.5       ,\n",
       "        0.80769231, 1.        ],\n",
       "       [0.66      , 0.57142857, 0.5       , 0.625     , 0.5       ,\n",
       "        0.57692308, 0.        ],\n",
       "       [0.88      , 0.85714286, 0.75      , 0.75      , 0.625     ,\n",
       "        0.87820513, 1.        ],\n",
       "       [0.52      , 0.35714286, 0.5       , 0.25      , 0.5       ,\n",
       "        0.19230769, 0.        ],\n",
       "       [0.62      , 0.67857143, 1.        , 1.        , 1.        ,\n",
       "        0.84935897, 1.        ],\n",
       "       [0.38      , 0.46428571, 1.        , 0.625     , 0.625     ,\n",
       "        0.56410256, 0.        ],\n",
       "       [0.46      , 0.53571429, 0.25      , 0.375     , 0.25      ,\n",
       "        0.54487179, 1.        ],\n",
       "       [0.36      , 0.39285714, 0.25      , 0.5       , 0.625     ,\n",
       "        0.54166667, 0.        ],\n",
       "       [0.14      , 0.14285714, 0.25      , 0.375     , 0.25      ,\n",
       "        0.20192308, 0.        ],\n",
       "       [0.58      , 0.5       , 0.5       , 0.625     , 0.375     ,\n",
       "        0.49038462, 1.        ],\n",
       "       [0.9       , 0.89285714, 1.        , 1.        , 1.        ,\n",
       "        0.96794872, 1.        ],\n",
       "       [0.22      , 0.25      , 0.25      , 0.5       , 0.25      ,\n",
       "        0.45512821, 0.        ],\n",
       "       [0.48      , 0.46428571, 0.5       , 0.625     , 0.375     ,\n",
       "        0.48076923, 0.        ],\n",
       "       [0.56      , 0.5       , 0.5       , 0.25      , 0.5       ,\n",
       "        0.59294872, 0.        ],\n",
       "       [0.18      , 0.14285714, 0.25      , 0.125     , 0.25      ,\n",
       "        0.33974359, 0.        ],\n",
       "       [0.94      , 0.92857143, 0.75      , 0.875     , 0.875     ,\n",
       "        0.91346154, 1.        ],\n",
       "       [0.7       , 0.53571429, 0.5       , 0.5       , 0.625     ,\n",
       "        0.74038462, 1.        ],\n",
       "       [0.42      , 0.46428571, 0.5       , 0.625     , 0.5       ,\n",
       "        0.52884615, 1.        ],\n",
       "       [0.12      , 0.25      , 0.25      , 0.375     , 0.375     ,\n",
       "        0.39423077, 0.        ],\n",
       "       [0.36      , 0.39285714, 0.25      , 0.375     , 0.75      ,\n",
       "        0.5       , 1.        ],\n",
       "       [0.72      , 0.71428571, 0.5       , 0.625     , 0.5       ,\n",
       "        0.72115385, 1.        ],\n",
       "       [0.68      , 0.64285714, 0.5       , 0.625     , 0.625     ,\n",
       "        0.71794872, 1.        ],\n",
       "       [0.92      , 0.92857143, 1.        , 0.875     , 1.        ,\n",
       "        0.875     , 1.        ],\n",
       "       [0.44      , 0.42857143, 0.5       , 0.625     , 0.75      ,\n",
       "        0.41346154, 0.        ],\n",
       "       [0.16      , 0.25      , 0.25      , 0.75      , 0.25      ,\n",
       "        0.25641026, 0.        ],\n",
       "       [0.44      , 0.53571429, 0.25      , 0.375     , 0.625     ,\n",
       "        0.47115385, 0.        ],\n",
       "       [0.18      , 0.35714286, 0.5       , 0.75      , 0.625     ,\n",
       "        0.58333333, 0.        ],\n",
       "       [0.6       , 0.64285714, 0.25      , 0.75      , 0.625     ,\n",
       "        0.56410256, 0.        ],\n",
       "       [0.36      , 0.5       , 0.5       , 0.5       , 0.5       ,\n",
       "        0.46153846, 0.        ],\n",
       "       [0.32      , 0.5       , 0.25      , 0.25      , 0.375     ,\n",
       "        0.42948718, 0.        ],\n",
       "       [0.84      , 0.92857143, 0.25      , 0.875     , 0.625     ,\n",
       "        0.82051282, 1.        ],\n",
       "       [0.58      , 0.46428571, 0.5       , 0.5       , 0.625     ,\n",
       "        0.59935897, 1.        ],\n",
       "       [0.6       , 0.39285714, 0.5       , 0.5       , 0.5       ,\n",
       "        0.28846154, 0.        ],\n",
       "       [0.74      , 0.71428571, 0.5       , 0.5       , 0.5       ,\n",
       "        0.61538462, 1.        ],\n",
       "       [1.        , 1.        , 1.        , 0.875     , 0.875     ,\n",
       "        0.8974359 , 1.        ],\n",
       "       [0.6       , 0.64285714, 1.        , 1.        , 0.875     ,\n",
       "        0.77564103, 1.        ],\n",
       "       [0.68      , 0.64285714, 0.75      , 0.875     , 0.75      ,\n",
       "        0.75320513, 1.        ],\n",
       "       [0.98      , 0.85714286, 0.75      , 0.75      , 0.625     ,\n",
       "        0.96153846, 1.        ],\n",
       "       [0.3       , 0.53571429, 0.25      , 0.375     , 0.375     ,\n",
       "        0.51923077, 0.        ],\n",
       "       [0.76      , 0.85714286, 1.        , 1.        , 1.        ,\n",
       "        0.86538462, 1.        ],\n",
       "       [0.66      , 0.75      , 0.75      , 0.75      , 0.875     ,\n",
       "        0.77884615, 1.        ],\n",
       "       [0.78      , 0.78571429, 1.        , 0.75      , 1.        ,\n",
       "        0.80128205, 1.        ],\n",
       "       [0.66      , 0.42857143, 0.5       , 0.75      , 0.75      ,\n",
       "        0.52564103, 1.        ],\n",
       "       [0.66      , 0.57142857, 1.        , 0.75      , 0.75      ,\n",
       "        0.62179487, 1.        ],\n",
       "       [0.84      , 0.92857143, 1.        , 1.        , 1.        ,\n",
       "        0.91025641, 1.        ],\n",
       "       [0.5       , 0.46428571, 0.25      , 0.25      , 0.375     ,\n",
       "        0.2724359 , 0.        ],\n",
       "       [0.34      , 0.57142857, 0.25      , 0.75      , 0.625     ,\n",
       "        0.28846154, 0.        ],\n",
       "       [0.36      , 0.60714286, 0.25      , 0.5       , 0.75      ,\n",
       "        0.52884615, 0.        ],\n",
       "       [0.64      , 0.64285714, 0.75      , 0.75      , 1.        ,\n",
       "        0.74679487, 1.        ],\n",
       "       [0.2       , 0.17857143, 0.25      , 0.5       , 0.5       ,\n",
       "        0.41666667, 1.        ],\n",
       "       [0.62      , 0.71428571, 1.        , 1.        , 1.        ,\n",
       "        0.72435897, 1.        ],\n",
       "       [0.22      , 0.5       , 0.75      , 0.375     , 0.5       ,\n",
       "        0.53525641, 0.        ],\n",
       "       [0.52      , 0.32142857, 0.25      , 0.375     , 0.25      ,\n",
       "        0.48717949, 1.        ],\n",
       "       [0.34      , 0.64285714, 0.75      , 0.75      , 0.875     ,\n",
       "        0.50320513, 0.        ],\n",
       "       [0.12      , 0.10714286, 0.25      , 0.5       , 0.25      ,\n",
       "        0.23717949, 1.        ],\n",
       "       [0.44      , 0.46428571, 0.25      , 0.375     , 0.5       ,\n",
       "        0.42307692, 0.        ],\n",
       "       [0.74      , 0.39285714, 0.5       , 0.75      , 0.75      ,\n",
       "        0.48076923, 1.        ],\n",
       "       [0.26      , 0.28571429, 0.25      , 0.5       , 0.625     ,\n",
       "        0.40384615, 1.        ],\n",
       "       [0.74      , 0.75      , 0.75      , 0.875     , 1.        ,\n",
       "        0.75      , 0.        ],\n",
       "       [0.78      , 0.67857143, 0.75      , 0.875     , 0.75      ,\n",
       "        0.77884615, 1.        ],\n",
       "       [0.48      , 0.57142857, 0.75      , 0.875     , 0.75      ,\n",
       "        0.71794872, 1.        ],\n",
       "       [0.54      , 0.5       , 0.5       , 0.75      , 0.625     ,\n",
       "        0.54487179, 1.        ],\n",
       "       [0.78      , 0.64285714, 0.25      , 0.75      , 0.5       ,\n",
       "        0.75320513, 1.        ],\n",
       "       [0.8       , 0.82142857, 1.        , 0.875     , 0.5       ,\n",
       "        0.81410256, 1.        ],\n",
       "       [0.64      , 0.64285714, 1.        , 1.        , 0.75      ,\n",
       "        0.73717949, 1.        ],\n",
       "       [0.12      , 0.17857143, 0.25      , 0.125     , 0.25      ,\n",
       "        0.32051282, 0.        ],\n",
       "       [0.52      , 0.46428571, 0.5       , 0.5       , 0.625     ,\n",
       "        0.61858974, 0.        ],\n",
       "       [0.44      , 0.64285714, 0.25      , 0.625     , 0.5       ,\n",
       "        0.55448718, 0.        ],\n",
       "       [0.22      , 0.21428571, 0.        , 0.25      , 0.5       ,\n",
       "        0.39423077, 1.        ],\n",
       "       [0.78      , 0.96428571, 0.75      , 0.875     , 0.875     ,\n",
       "        0.75641026, 1.        ],\n",
       "       [0.46      , 0.60714286, 0.5       , 0.75      , 0.625     ,\n",
       "        0.70512821, 0.        ]])"
      ]
     },
     "execution_count": 69,
     "metadata": {},
     "output_type": "execute_result"
    }
   ],
   "source": [
    "x_test_scaled"
   ]
  },
  {
   "cell_type": "code",
   "execution_count": 70,
   "id": "057eeb41-6974-4e4c-958b-753dff904f7b",
   "metadata": {},
   "outputs": [],
   "source": [
    "import tensorflow \n",
    "from tensorflow import keras\n",
    "from tensorflow.keras import Sequential\n",
    "from tensorflow.keras.layers import Dense"
   ]
  },
  {
   "cell_type": "code",
   "execution_count": 71,
   "id": "bdc9195b-f6ac-4f52-bdfc-157be1a51af9",
   "metadata": {},
   "outputs": [
    {
     "name": "stderr",
     "output_type": "stream",
     "text": [
      "C:\\Users\\Ashish Kumar Singh\\AppData\\Roaming\\Python\\Python312\\site-packages\\keras\\src\\layers\\core\\dense.py:87: UserWarning: Do not pass an `input_shape`/`input_dim` argument to a layer. When using Sequential models, prefer using an `Input(shape)` object as the first layer in the model instead.\n",
      "  super().__init__(activity_regularizer=activity_regularizer, **kwargs)\n"
     ]
    }
   ],
   "source": [
    "model=Sequential()\n",
    "model.add(Dense(7,activation='relu',input_dim=7))\n",
    "model.add(Dense(1,activation='linear'))"
   ]
  },
  {
   "cell_type": "code",
   "execution_count": 72,
   "id": "b5d2395a-eafa-4d0a-a5ba-43fcfd864379",
   "metadata": {},
   "outputs": [],
   "source": [
    "model.compile(loss='mean_squared_error',optimizer=\"Adam\")"
   ]
  },
  {
   "cell_type": "code",
   "execution_count": 73,
   "id": "89e50228-2a99-4cdf-8df8-303e82d20f4c",
   "metadata": {},
   "outputs": [
    {
     "name": "stdout",
     "output_type": "stream",
     "text": [
      "Epoch 1/10\n",
      "\u001b[1m8/8\u001b[0m \u001b[32m━━━━━━━━━━━━━━━━━━━━\u001b[0m\u001b[37m\u001b[0m \u001b[1m3s\u001b[0m 39ms/step - loss: 0.7292 - val_loss: 0.7373\n",
      "Epoch 2/10\n",
      "\u001b[1m8/8\u001b[0m \u001b[32m━━━━━━━━━━━━━━━━━━━━\u001b[0m\u001b[37m\u001b[0m \u001b[1m0s\u001b[0m 10ms/step - loss: 0.6436 - val_loss: 0.6361\n",
      "Epoch 3/10\n",
      "\u001b[1m8/8\u001b[0m \u001b[32m━━━━━━━━━━━━━━━━━━━━\u001b[0m\u001b[37m\u001b[0m \u001b[1m0s\u001b[0m 11ms/step - loss: 0.5750 - val_loss: 0.5392\n",
      "Epoch 4/10\n",
      "\u001b[1m8/8\u001b[0m \u001b[32m━━━━━━━━━━━━━━━━━━━━\u001b[0m\u001b[37m\u001b[0m \u001b[1m0s\u001b[0m 10ms/step - loss: 0.4657 - val_loss: 0.4485\n",
      "Epoch 5/10\n",
      "\u001b[1m8/8\u001b[0m \u001b[32m━━━━━━━━━━━━━━━━━━━━\u001b[0m\u001b[37m\u001b[0m \u001b[1m0s\u001b[0m 9ms/step - loss: 0.4047 - val_loss: 0.3645\n",
      "Epoch 6/10\n",
      "\u001b[1m8/8\u001b[0m \u001b[32m━━━━━━━━━━━━━━━━━━━━\u001b[0m\u001b[37m\u001b[0m \u001b[1m0s\u001b[0m 11ms/step - loss: 0.3097 - val_loss: 0.2912\n",
      "Epoch 7/10\n",
      "\u001b[1m8/8\u001b[0m \u001b[32m━━━━━━━━━━━━━━━━━━━━\u001b[0m\u001b[37m\u001b[0m \u001b[1m0s\u001b[0m 9ms/step - loss: 0.2454 - val_loss: 0.2295\n",
      "Epoch 8/10\n",
      "\u001b[1m8/8\u001b[0m \u001b[32m━━━━━━━━━━━━━━━━━━━━\u001b[0m\u001b[37m\u001b[0m \u001b[1m0s\u001b[0m 10ms/step - loss: 0.1864 - val_loss: 0.1789\n",
      "Epoch 9/10\n",
      "\u001b[1m8/8\u001b[0m \u001b[32m━━━━━━━━━━━━━━━━━━━━\u001b[0m\u001b[37m\u001b[0m \u001b[1m0s\u001b[0m 9ms/step - loss: 0.1491 - val_loss: 0.1390\n",
      "Epoch 10/10\n",
      "\u001b[1m8/8\u001b[0m \u001b[32m━━━━━━━━━━━━━━━━━━━━\u001b[0m\u001b[37m\u001b[0m \u001b[1m0s\u001b[0m 10ms/step - loss: 0.1181 - val_loss: 0.1080\n"
     ]
    }
   ],
   "source": [
    "history=model.fit(x_train_scaled,y_train,epochs=10,validation_split=0.2)"
   ]
  },
  {
   "cell_type": "code",
   "execution_count": 74,
   "id": "a13808aa-9956-4410-96e9-e6f0cb7618d8",
   "metadata": {},
   "outputs": [
    {
     "name": "stdout",
     "output_type": "stream",
     "text": [
      "\u001b[1m10/10\u001b[0m \u001b[32m━━━━━━━━━━━━━━━━━━━━\u001b[0m\u001b[37m\u001b[0m \u001b[1m0s\u001b[0m 2ms/step \n"
     ]
    }
   ],
   "source": [
    "y_pred=model.predict(x_train_scaled)"
   ]
  },
  {
   "cell_type": "code",
   "execution_count": null,
   "id": "fa544ccd-6d06-41b3-b805-980818d59160",
   "metadata": {},
   "outputs": [],
   "source": []
  },
  {
   "cell_type": "code",
   "execution_count": 75,
   "id": "f8d3fcbd-a738-4c70-bcf6-ae1b006c9974",
   "metadata": {},
   "outputs": [
    {
     "ename": "ValueError",
     "evalue": "Found input variables with inconsistent numbers of samples: [80, 320]",
     "output_type": "error",
     "traceback": [
      "\u001b[1;31m---------------------------------------------------------------------------\u001b[0m",
      "\u001b[1;31mValueError\u001b[0m                                Traceback (most recent call last)",
      "Cell \u001b[1;32mIn[75], line 2\u001b[0m\n\u001b[0;32m      1\u001b[0m \u001b[38;5;28;01mfrom\u001b[39;00m \u001b[38;5;21;01msklearn\u001b[39;00m\u001b[38;5;21;01m.\u001b[39;00m\u001b[38;5;21;01mmetrics\u001b[39;00m \u001b[38;5;28;01mimport\u001b[39;00m r2_score\n\u001b[1;32m----> 2\u001b[0m \u001b[43mr2_score\u001b[49m\u001b[43m(\u001b[49m\u001b[43my_test\u001b[49m\u001b[43m,\u001b[49m\u001b[43my_pred\u001b[49m\u001b[43m)\u001b[49m\n",
      "File \u001b[1;32m~\\AppData\\Roaming\\Python\\Python312\\site-packages\\sklearn\\utils\\_param_validation.py:213\u001b[0m, in \u001b[0;36mvalidate_params.<locals>.decorator.<locals>.wrapper\u001b[1;34m(*args, **kwargs)\u001b[0m\n\u001b[0;32m    207\u001b[0m \u001b[38;5;28;01mtry\u001b[39;00m:\n\u001b[0;32m    208\u001b[0m     \u001b[38;5;28;01mwith\u001b[39;00m config_context(\n\u001b[0;32m    209\u001b[0m         skip_parameter_validation\u001b[38;5;241m=\u001b[39m(\n\u001b[0;32m    210\u001b[0m             prefer_skip_nested_validation \u001b[38;5;129;01mor\u001b[39;00m global_skip_validation\n\u001b[0;32m    211\u001b[0m         )\n\u001b[0;32m    212\u001b[0m     ):\n\u001b[1;32m--> 213\u001b[0m         \u001b[38;5;28;01mreturn\u001b[39;00m \u001b[43mfunc\u001b[49m\u001b[43m(\u001b[49m\u001b[38;5;241;43m*\u001b[39;49m\u001b[43margs\u001b[49m\u001b[43m,\u001b[49m\u001b[43m \u001b[49m\u001b[38;5;241;43m*\u001b[39;49m\u001b[38;5;241;43m*\u001b[39;49m\u001b[43mkwargs\u001b[49m\u001b[43m)\u001b[49m\n\u001b[0;32m    214\u001b[0m \u001b[38;5;28;01mexcept\u001b[39;00m InvalidParameterError \u001b[38;5;28;01mas\u001b[39;00m e:\n\u001b[0;32m    215\u001b[0m     \u001b[38;5;66;03m# When the function is just a wrapper around an estimator, we allow\u001b[39;00m\n\u001b[0;32m    216\u001b[0m     \u001b[38;5;66;03m# the function to delegate validation to the estimator, but we replace\u001b[39;00m\n\u001b[0;32m    217\u001b[0m     \u001b[38;5;66;03m# the name of the estimator by the name of the function in the error\u001b[39;00m\n\u001b[0;32m    218\u001b[0m     \u001b[38;5;66;03m# message to avoid confusion.\u001b[39;00m\n\u001b[0;32m    219\u001b[0m     msg \u001b[38;5;241m=\u001b[39m re\u001b[38;5;241m.\u001b[39msub(\n\u001b[0;32m    220\u001b[0m         \u001b[38;5;124mr\u001b[39m\u001b[38;5;124m\"\u001b[39m\u001b[38;5;124mparameter of \u001b[39m\u001b[38;5;124m\\\u001b[39m\u001b[38;5;124mw+ must be\u001b[39m\u001b[38;5;124m\"\u001b[39m,\n\u001b[0;32m    221\u001b[0m         \u001b[38;5;124mf\u001b[39m\u001b[38;5;124m\"\u001b[39m\u001b[38;5;124mparameter of \u001b[39m\u001b[38;5;132;01m{\u001b[39;00mfunc\u001b[38;5;241m.\u001b[39m\u001b[38;5;18m__qualname__\u001b[39m\u001b[38;5;132;01m}\u001b[39;00m\u001b[38;5;124m must be\u001b[39m\u001b[38;5;124m\"\u001b[39m,\n\u001b[0;32m    222\u001b[0m         \u001b[38;5;28mstr\u001b[39m(e),\n\u001b[0;32m    223\u001b[0m     )\n",
      "File \u001b[1;32m~\\AppData\\Roaming\\Python\\Python312\\site-packages\\sklearn\\metrics\\_regression.py:1204\u001b[0m, in \u001b[0;36mr2_score\u001b[1;34m(y_true, y_pred, sample_weight, multioutput, force_finite)\u001b[0m\n\u001b[0;32m   1198\u001b[0m xp, _, device_ \u001b[38;5;241m=\u001b[39m get_namespace_and_device(\n\u001b[0;32m   1199\u001b[0m     y_true, y_pred, sample_weight, multioutput\n\u001b[0;32m   1200\u001b[0m )\n\u001b[0;32m   1202\u001b[0m dtype \u001b[38;5;241m=\u001b[39m _find_matching_floating_dtype(y_true, y_pred, sample_weight, xp\u001b[38;5;241m=\u001b[39mxp)\n\u001b[1;32m-> 1204\u001b[0m _, y_true, y_pred, multioutput \u001b[38;5;241m=\u001b[39m \u001b[43m_check_reg_targets\u001b[49m\u001b[43m(\u001b[49m\n\u001b[0;32m   1205\u001b[0m \u001b[43m    \u001b[49m\u001b[43my_true\u001b[49m\u001b[43m,\u001b[49m\u001b[43m \u001b[49m\u001b[43my_pred\u001b[49m\u001b[43m,\u001b[49m\u001b[43m \u001b[49m\u001b[43mmultioutput\u001b[49m\u001b[43m,\u001b[49m\u001b[43m \u001b[49m\u001b[43mdtype\u001b[49m\u001b[38;5;241;43m=\u001b[39;49m\u001b[43mdtype\u001b[49m\u001b[43m,\u001b[49m\u001b[43m \u001b[49m\u001b[43mxp\u001b[49m\u001b[38;5;241;43m=\u001b[39;49m\u001b[43mxp\u001b[49m\n\u001b[0;32m   1206\u001b[0m \u001b[43m\u001b[49m\u001b[43m)\u001b[49m\n\u001b[0;32m   1207\u001b[0m check_consistent_length(y_true, y_pred, sample_weight)\n\u001b[0;32m   1209\u001b[0m \u001b[38;5;28;01mif\u001b[39;00m _num_samples(y_pred) \u001b[38;5;241m<\u001b[39m \u001b[38;5;241m2\u001b[39m:\n",
      "File \u001b[1;32m~\\AppData\\Roaming\\Python\\Python312\\site-packages\\sklearn\\metrics\\_regression.py:111\u001b[0m, in \u001b[0;36m_check_reg_targets\u001b[1;34m(y_true, y_pred, multioutput, dtype, xp)\u001b[0m\n\u001b[0;32m     76\u001b[0m \u001b[38;5;250m\u001b[39m\u001b[38;5;124;03m\"\"\"Check that y_true and y_pred belong to the same regression task.\u001b[39;00m\n\u001b[0;32m     77\u001b[0m \n\u001b[0;32m     78\u001b[0m \u001b[38;5;124;03mParameters\u001b[39;00m\n\u001b[1;32m   (...)\u001b[0m\n\u001b[0;32m    107\u001b[0m \u001b[38;5;124;03m    correct keyword.\u001b[39;00m\n\u001b[0;32m    108\u001b[0m \u001b[38;5;124;03m\"\"\"\u001b[39;00m\n\u001b[0;32m    109\u001b[0m xp, _ \u001b[38;5;241m=\u001b[39m get_namespace(y_true, y_pred, multioutput, xp\u001b[38;5;241m=\u001b[39mxp)\n\u001b[1;32m--> 111\u001b[0m \u001b[43mcheck_consistent_length\u001b[49m\u001b[43m(\u001b[49m\u001b[43my_true\u001b[49m\u001b[43m,\u001b[49m\u001b[43m \u001b[49m\u001b[43my_pred\u001b[49m\u001b[43m)\u001b[49m\n\u001b[0;32m    112\u001b[0m y_true \u001b[38;5;241m=\u001b[39m check_array(y_true, ensure_2d\u001b[38;5;241m=\u001b[39m\u001b[38;5;28;01mFalse\u001b[39;00m, dtype\u001b[38;5;241m=\u001b[39mdtype)\n\u001b[0;32m    113\u001b[0m y_pred \u001b[38;5;241m=\u001b[39m check_array(y_pred, ensure_2d\u001b[38;5;241m=\u001b[39m\u001b[38;5;28;01mFalse\u001b[39;00m, dtype\u001b[38;5;241m=\u001b[39mdtype)\n",
      "File \u001b[1;32m~\\AppData\\Roaming\\Python\\Python312\\site-packages\\sklearn\\utils\\validation.py:457\u001b[0m, in \u001b[0;36mcheck_consistent_length\u001b[1;34m(*arrays)\u001b[0m\n\u001b[0;32m    455\u001b[0m uniques \u001b[38;5;241m=\u001b[39m np\u001b[38;5;241m.\u001b[39munique(lengths)\n\u001b[0;32m    456\u001b[0m \u001b[38;5;28;01mif\u001b[39;00m \u001b[38;5;28mlen\u001b[39m(uniques) \u001b[38;5;241m>\u001b[39m \u001b[38;5;241m1\u001b[39m:\n\u001b[1;32m--> 457\u001b[0m     \u001b[38;5;28;01mraise\u001b[39;00m \u001b[38;5;167;01mValueError\u001b[39;00m(\n\u001b[0;32m    458\u001b[0m         \u001b[38;5;124m\"\u001b[39m\u001b[38;5;124mFound input variables with inconsistent numbers of samples: \u001b[39m\u001b[38;5;132;01m%r\u001b[39;00m\u001b[38;5;124m\"\u001b[39m\n\u001b[0;32m    459\u001b[0m         \u001b[38;5;241m%\u001b[39m [\u001b[38;5;28mint\u001b[39m(l) \u001b[38;5;28;01mfor\u001b[39;00m l \u001b[38;5;129;01min\u001b[39;00m lengths]\n\u001b[0;32m    460\u001b[0m     )\n",
      "\u001b[1;31mValueError\u001b[0m: Found input variables with inconsistent numbers of samples: [80, 320]"
     ]
    }
   ],
   "source": [
    "from sklearn.metrics import r2_score\n",
    "r2_score(y_test,y_pred)"
   ]
  },
  {
   "cell_type": "code",
   "execution_count": 78,
   "id": "9436daf6-81c9-4b22-99e6-139834416efe",
   "metadata": {},
   "outputs": [
    {
     "data": {
      "text/plain": [
       "[<matplotlib.lines.Line2D at 0x1f79c82a750>]"
      ]
     },
     "execution_count": 78,
     "metadata": {},
     "output_type": "execute_result"
    },
    {
     "data": {
      "image/png": "[encoded data removed]",
      "text/plain": [
       "<Figure size 640x480 with 1 Axes>"
      ]
     },
     "metadata": {},
     "output_type": "display_data"
    }
   ],
   "source": [
    "import matplotlib.pyplot as plt \n",
    "plt.plot(history.history['loss'])\n",
    "plt.plot(history.history['val_loss'])"
   ]
  },
  {
   "cell_type": "code",
   "execution_count": null,
   "id": "fbaab8c7-0136-41b5-aafb-6a93fa22af75",
   "metadata": {},
   "outputs": [],
   "source": []
  }
 ],
 "metadata": {
  "kernelspec": {
   "display_name": "Python 3 (ipykernel)",
   "language": "python",
   "name": "python3"
  },
  "language_info": {
   "codemirror_mode": {
    "name": "ipython",
    "version": 3
   },
   "file_extension": ".py",
   "mimetype": "text/x-python",
   "name": "python",
   "nbconvert_exporter": "python",
   "pygments_lexer": "ipython3",
   "version": "3.12.3"
  }
 },
 "nbformat": 4,
 "nbformat_minor": 5
}
