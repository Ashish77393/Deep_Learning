{
 "cells": [
  {
   "cell_type": "code",
   "execution_count": null,
   "id": "d37e03f0-8baf-40a0-87b2-394522088bc3",
   "metadata": {},
   "outputs": [],
   "source": []
  }
 ],
 "metadata": {
  "kernelspec": {
   "display_name": "",
   "name": ""
  },
  "language_info": {
   "name": ""
  }
 },
 "nbformat": 4,
 "nbformat_minor": 5
}
